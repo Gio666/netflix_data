{
 "cells": [
  {
   "cell_type": "code",
   "execution_count": 1,
   "id": "e6a833d9-9cfa-4c85-8ff8-cb62e55c614e",
   "metadata": {
    "tags": []
   },
   "outputs": [
    {
     "data": {
      "text/plain": [
       "(15480, 29)"
      ]
     },
     "execution_count": 1,
     "metadata": {},
     "output_type": "execute_result"
    }
   ],
   "source": [
    "import numpy as np # linear algebra\n",
    "import pandas as pd # data processing, CSV file I/O (e.g. pd.read_csv)\n",
    "from matplotlib import pyplot as plt\n",
    "import os\n",
    "\n",
    "netflix_data = pd.read_excel('netflix_data.xlsx')\n",
    "netflix_data.shape"
   ]
  },
  {
   "cell_type": "code",
   "execution_count": 4,
   "id": "7da4dedd-0e9d-4086-91d5-939e8efa3b44",
   "metadata": {
    "tags": []
   },
   "outputs": [
    {
     "data": {
      "text/html": [
       "<div>\n",
       "<style scoped>\n",
       "    .dataframe tbody tr th:only-of-type {\n",
       "        vertical-align: middle;\n",
       "    }\n",
       "\n",
       "    .dataframe tbody tr th {\n",
       "        vertical-align: top;\n",
       "    }\n",
       "\n",
       "    .dataframe thead th {\n",
       "        text-align: right;\n",
       "    }\n",
       "</style>\n",
       "<table border=\"1\" class=\"dataframe\">\n",
       "  <thead>\n",
       "    <tr style=\"text-align: right;\">\n",
       "      <th></th>\n",
       "      <th>Title</th>\n",
       "      <th>Genre</th>\n",
       "      <th>Tags</th>\n",
       "      <th>Languages</th>\n",
       "      <th>Series or Movie</th>\n",
       "      <th>Hidden Gem Score</th>\n",
       "      <th>Country Availability</th>\n",
       "      <th>Runtime</th>\n",
       "      <th>Director</th>\n",
       "      <th>Writer</th>\n",
       "      <th>...</th>\n",
       "      <th>Netflix Release Date</th>\n",
       "      <th>Production House</th>\n",
       "      <th>Netflix Link</th>\n",
       "      <th>IMDb Link</th>\n",
       "      <th>Summary</th>\n",
       "      <th>IMDb Votes</th>\n",
       "      <th>Image</th>\n",
       "      <th>Poster</th>\n",
       "      <th>TMDb Trailer</th>\n",
       "      <th>Trailer Site</th>\n",
       "    </tr>\n",
       "  </thead>\n",
       "  <tbody>\n",
       "    <tr>\n",
       "      <th>0</th>\n",
       "      <td>Lets Fight Ghost</td>\n",
       "      <td>Crime, Drama, Fantasy, Horror, Romance</td>\n",
       "      <td>Comedy Programmes,Romantic TV Comedies,Horror ...</td>\n",
       "      <td>Swedish, Spanish</td>\n",
       "      <td>Series</td>\n",
       "      <td>4.3</td>\n",
       "      <td>Thailand</td>\n",
       "      <td>&lt; 30 minutes</td>\n",
       "      <td>Tomas Alfredson</td>\n",
       "      <td>John Ajvide Lindqvist</td>\n",
       "      <td>...</td>\n",
       "      <td>2021-03-04</td>\n",
       "      <td>Canal+, Sandrew Metronome</td>\n",
       "      <td>https://www.netflix.com/watch/81415947</td>\n",
       "      <td>https://www.imdb.com/title/tt1139797</td>\n",
       "      <td>A med student with a supernatural gift tries t...</td>\n",
       "      <td>205926.0</td>\n",
       "      <td>https://occ-0-4708-64.1.nflxso.net/dnm/api/v6/...</td>\n",
       "      <td>https://m.media-amazon.com/images/M/MV5BOWM4NT...</td>\n",
       "      <td>NaN</td>\n",
       "      <td>NaN</td>\n",
       "    </tr>\n",
       "  </tbody>\n",
       "</table>\n",
       "<p>1 rows × 29 columns</p>\n",
       "</div>"
      ],
      "text/plain": [
       "              Title                                   Genre  \\\n",
       "0  Lets Fight Ghost  Crime, Drama, Fantasy, Horror, Romance   \n",
       "\n",
       "                                                Tags         Languages  \\\n",
       "0  Comedy Programmes,Romantic TV Comedies,Horror ...  Swedish, Spanish   \n",
       "\n",
       "  Series or Movie  Hidden Gem Score Country Availability       Runtime  \\\n",
       "0          Series               4.3             Thailand  < 30 minutes   \n",
       "\n",
       "          Director                 Writer  ... Netflix Release Date  \\\n",
       "0  Tomas Alfredson  John Ajvide Lindqvist  ...           2021-03-04   \n",
       "\n",
       "            Production House                            Netflix Link  \\\n",
       "0  Canal+, Sandrew Metronome  https://www.netflix.com/watch/81415947   \n",
       "\n",
       "                              IMDb Link  \\\n",
       "0  https://www.imdb.com/title/tt1139797   \n",
       "\n",
       "                                             Summary  IMDb Votes  \\\n",
       "0  A med student with a supernatural gift tries t...    205926.0   \n",
       "\n",
       "                                               Image  \\\n",
       "0  https://occ-0-4708-64.1.nflxso.net/dnm/api/v6/...   \n",
       "\n",
       "                                              Poster TMDb Trailer Trailer Site  \n",
       "0  https://m.media-amazon.com/images/M/MV5BOWM4NT...          NaN          NaN  \n",
       "\n",
       "[1 rows x 29 columns]"
      ]
     },
     "execution_count": 4,
     "metadata": {},
     "output_type": "execute_result"
    }
   ],
   "source": [
    "netflix_data.head(1)"
   ]
  },
  {
   "cell_type": "code",
   "execution_count": 5,
   "id": "42fcd0ce-0563-4a2d-9e62-8c2002219573",
   "metadata": {
    "tags": []
   },
   "outputs": [
    {
     "data": {
      "text/html": [
       "<div>\n",
       "<style scoped>\n",
       "    .dataframe tbody tr th:only-of-type {\n",
       "        vertical-align: middle;\n",
       "    }\n",
       "\n",
       "    .dataframe tbody tr th {\n",
       "        vertical-align: top;\n",
       "    }\n",
       "\n",
       "    .dataframe thead th {\n",
       "        text-align: right;\n",
       "    }\n",
       "</style>\n",
       "<table border=\"1\" class=\"dataframe\">\n",
       "  <thead>\n",
       "    <tr style=\"text-align: right;\">\n",
       "      <th></th>\n",
       "      <th>Title</th>\n",
       "      <th>Genre</th>\n",
       "      <th>Tags</th>\n",
       "      <th>Languages</th>\n",
       "      <th>Series or Movie</th>\n",
       "      <th>Hidden Gem Score</th>\n",
       "      <th>Country Availability</th>\n",
       "      <th>Runtime</th>\n",
       "      <th>Director</th>\n",
       "      <th>Writer</th>\n",
       "      <th>...</th>\n",
       "      <th>Netflix Release Date</th>\n",
       "      <th>Production House</th>\n",
       "      <th>Netflix Link</th>\n",
       "      <th>IMDb Link</th>\n",
       "      <th>Summary</th>\n",
       "      <th>IMDb Votes</th>\n",
       "      <th>Image</th>\n",
       "      <th>Poster</th>\n",
       "      <th>TMDb Trailer</th>\n",
       "      <th>Trailer Site</th>\n",
       "    </tr>\n",
       "  </thead>\n",
       "  <tbody>\n",
       "    <tr>\n",
       "      <th>15479</th>\n",
       "      <td>DreamWorks Kung Fu Panda Awesome Secrets</td>\n",
       "      <td>Animation, Action, Comedy, Family</td>\n",
       "      <td>TV Comedies,Kids TV,Animal Tales,TV Cartoons,T...</td>\n",
       "      <td>English</td>\n",
       "      <td>Series</td>\n",
       "      <td>8.1</td>\n",
       "      <td>Belgium,Switzerland,Germany,United Kingdom,Fra...</td>\n",
       "      <td>&lt; 30 minutes</td>\n",
       "      <td>NaN</td>\n",
       "      <td>NaN</td>\n",
       "      <td>...</td>\n",
       "      <td>2015-04-14</td>\n",
       "      <td>NaN</td>\n",
       "      <td>https://www.netflix.com/watch/70241791</td>\n",
       "      <td>NaN</td>\n",
       "      <td>In this pair of adventures, Po tells the story...</td>\n",
       "      <td>17.0</td>\n",
       "      <td>https://occ-0-2851-38.1.nflxso.net/dnm/api/v6/...</td>\n",
       "      <td>NaN</td>\n",
       "      <td>NaN</td>\n",
       "      <td>NaN</td>\n",
       "    </tr>\n",
       "  </tbody>\n",
       "</table>\n",
       "<p>1 rows × 29 columns</p>\n",
       "</div>"
      ],
      "text/plain": [
       "                                          Title  \\\n",
       "15479  DreamWorks Kung Fu Panda Awesome Secrets   \n",
       "\n",
       "                                   Genre  \\\n",
       "15479  Animation, Action, Comedy, Family   \n",
       "\n",
       "                                                    Tags Languages  \\\n",
       "15479  TV Comedies,Kids TV,Animal Tales,TV Cartoons,T...   English   \n",
       "\n",
       "      Series or Movie  Hidden Gem Score  \\\n",
       "15479          Series               8.1   \n",
       "\n",
       "                                    Country Availability       Runtime  \\\n",
       "15479  Belgium,Switzerland,Germany,United Kingdom,Fra...  < 30 minutes   \n",
       "\n",
       "      Director Writer  ... Netflix Release Date Production House  \\\n",
       "15479      NaN    NaN  ...           2015-04-14              NaN   \n",
       "\n",
       "                                 Netflix Link  IMDb Link  \\\n",
       "15479  https://www.netflix.com/watch/70241791        NaN   \n",
       "\n",
       "                                                 Summary  IMDb Votes  \\\n",
       "15479  In this pair of adventures, Po tells the story...        17.0   \n",
       "\n",
       "                                                   Image Poster TMDb Trailer  \\\n",
       "15479  https://occ-0-2851-38.1.nflxso.net/dnm/api/v6/...    NaN          NaN   \n",
       "\n",
       "      Trailer Site  \n",
       "15479          NaN  \n",
       "\n",
       "[1 rows x 29 columns]"
      ]
     },
     "execution_count": 5,
     "metadata": {},
     "output_type": "execute_result"
    }
   ],
   "source": [
    "netflix_data.tail(1)"
   ]
  },
  {
   "cell_type": "code",
   "execution_count": 6,
   "id": "d409a725-9cfe-409b-8f14-134561353272",
   "metadata": {
    "tags": []
   },
   "outputs": [
    {
     "data": {
      "text/html": [
       "<div>\n",
       "<style scoped>\n",
       "    .dataframe tbody tr th:only-of-type {\n",
       "        vertical-align: middle;\n",
       "    }\n",
       "\n",
       "    .dataframe tbody tr th {\n",
       "        vertical-align: top;\n",
       "    }\n",
       "\n",
       "    .dataframe thead th {\n",
       "        text-align: right;\n",
       "    }\n",
       "</style>\n",
       "<table border=\"1\" class=\"dataframe\">\n",
       "  <thead>\n",
       "    <tr style=\"text-align: right;\">\n",
       "      <th></th>\n",
       "      <th>Hidden Gem Score</th>\n",
       "      <th>IMDb Score</th>\n",
       "      <th>Rotten Tomatoes Score</th>\n",
       "      <th>Metacritic Score</th>\n",
       "      <th>Awards Received</th>\n",
       "      <th>Awards Nominated For</th>\n",
       "      <th>IMDb Votes</th>\n",
       "    </tr>\n",
       "  </thead>\n",
       "  <tbody>\n",
       "    <tr>\n",
       "      <th>count</th>\n",
       "      <td>13379.000000</td>\n",
       "      <td>13381.000000</td>\n",
       "      <td>6382.000000</td>\n",
       "      <td>4336.000000</td>\n",
       "      <td>6075.000000</td>\n",
       "      <td>7661.000000</td>\n",
       "      <td>1.337900e+04</td>\n",
       "    </tr>\n",
       "    <tr>\n",
       "      <th>mean</th>\n",
       "      <td>5.937551</td>\n",
       "      <td>6.496054</td>\n",
       "      <td>59.523034</td>\n",
       "      <td>56.813653</td>\n",
       "      <td>8.764444</td>\n",
       "      <td>13.983161</td>\n",
       "      <td>4.272841e+04</td>\n",
       "    </tr>\n",
       "    <tr>\n",
       "      <th>std</th>\n",
       "      <td>2.250202</td>\n",
       "      <td>1.146910</td>\n",
       "      <td>26.999173</td>\n",
       "      <td>17.582545</td>\n",
       "      <td>18.311171</td>\n",
       "      <td>29.821052</td>\n",
       "      <td>1.257012e+05</td>\n",
       "    </tr>\n",
       "    <tr>\n",
       "      <th>min</th>\n",
       "      <td>0.600000</td>\n",
       "      <td>1.000000</td>\n",
       "      <td>0.000000</td>\n",
       "      <td>5.000000</td>\n",
       "      <td>1.000000</td>\n",
       "      <td>1.000000</td>\n",
       "      <td>5.000000e+00</td>\n",
       "    </tr>\n",
       "    <tr>\n",
       "      <th>25%</th>\n",
       "      <td>3.800000</td>\n",
       "      <td>5.800000</td>\n",
       "      <td>38.000000</td>\n",
       "      <td>44.000000</td>\n",
       "      <td>1.000000</td>\n",
       "      <td>2.000000</td>\n",
       "      <td>4.035000e+02</td>\n",
       "    </tr>\n",
       "    <tr>\n",
       "      <th>50%</th>\n",
       "      <td>6.800000</td>\n",
       "      <td>6.600000</td>\n",
       "      <td>64.000000</td>\n",
       "      <td>57.000000</td>\n",
       "      <td>3.000000</td>\n",
       "      <td>5.000000</td>\n",
       "      <td>2.322000e+03</td>\n",
       "    </tr>\n",
       "    <tr>\n",
       "      <th>75%</th>\n",
       "      <td>7.900000</td>\n",
       "      <td>7.300000</td>\n",
       "      <td>83.000000</td>\n",
       "      <td>70.000000</td>\n",
       "      <td>8.000000</td>\n",
       "      <td>12.000000</td>\n",
       "      <td>2.089050e+04</td>\n",
       "    </tr>\n",
       "    <tr>\n",
       "      <th>max</th>\n",
       "      <td>9.800000</td>\n",
       "      <td>9.700000</td>\n",
       "      <td>100.000000</td>\n",
       "      <td>100.000000</td>\n",
       "      <td>300.000000</td>\n",
       "      <td>386.000000</td>\n",
       "      <td>2.354197e+06</td>\n",
       "    </tr>\n",
       "  </tbody>\n",
       "</table>\n",
       "</div>"
      ],
      "text/plain": [
       "       Hidden Gem Score    IMDb Score  Rotten Tomatoes Score  \\\n",
       "count      13379.000000  13381.000000            6382.000000   \n",
       "mean           5.937551      6.496054              59.523034   \n",
       "std            2.250202      1.146910              26.999173   \n",
       "min            0.600000      1.000000               0.000000   \n",
       "25%            3.800000      5.800000              38.000000   \n",
       "50%            6.800000      6.600000              64.000000   \n",
       "75%            7.900000      7.300000              83.000000   \n",
       "max            9.800000      9.700000             100.000000   \n",
       "\n",
       "       Metacritic Score  Awards Received  Awards Nominated For    IMDb Votes  \n",
       "count       4336.000000      6075.000000           7661.000000  1.337900e+04  \n",
       "mean          56.813653         8.764444             13.983161  4.272841e+04  \n",
       "std           17.582545        18.311171             29.821052  1.257012e+05  \n",
       "min            5.000000         1.000000              1.000000  5.000000e+00  \n",
       "25%           44.000000         1.000000              2.000000  4.035000e+02  \n",
       "50%           57.000000         3.000000              5.000000  2.322000e+03  \n",
       "75%           70.000000         8.000000             12.000000  2.089050e+04  \n",
       "max          100.000000       300.000000            386.000000  2.354197e+06  "
      ]
     },
     "execution_count": 6,
     "metadata": {},
     "output_type": "execute_result"
    }
   ],
   "source": [
    "netflix_data.describe()"
   ]
  },
  {
   "cell_type": "code",
   "execution_count": 8,
   "id": "b88b24d6-5c30-4e3d-aa16-f8ea84b7812f",
   "metadata": {
    "tags": []
   },
   "outputs": [
    {
     "data": {
      "text/plain": [
       "Title                     object\n",
       "Genre                     object\n",
       "Tags                      object\n",
       "Languages                 object\n",
       "Series or Movie           object\n",
       "Hidden Gem Score         float64\n",
       "Country Availability      object\n",
       "Runtime                   object\n",
       "Director                  object\n",
       "Writer                    object\n",
       "Actors                    object\n",
       "View Rating               object\n",
       "IMDb Score               float64\n",
       "Rotten Tomatoes Score    float64\n",
       "Metacritic Score         float64\n",
       "Awards Received          float64\n",
       "Awards Nominated For     float64\n",
       "Boxoffice                 object\n",
       "Release Date              object\n",
       "Netflix Release Date      object\n",
       "Production House          object\n",
       "Netflix Link              object\n",
       "IMDb Link                 object\n",
       "Summary                   object\n",
       "IMDb Votes               float64\n",
       "Image                     object\n",
       "Poster                    object\n",
       "TMDb Trailer              object\n",
       "Trailer Site              object\n",
       "dtype: object"
      ]
     },
     "execution_count": 8,
     "metadata": {},
     "output_type": "execute_result"
    }
   ],
   "source": [
    "netflix_data.tail(1).dtypes"
   ]
  },
  {
   "cell_type": "code",
   "execution_count": 2,
   "id": "f202c94e-146a-44b0-9403-ee20b74f670b",
   "metadata": {},
   "outputs": [
    {
     "data": {
      "text/plain": [
       "dtype('float64')"
      ]
     },
     "execution_count": 2,
     "metadata": {},
     "output_type": "execute_result"
    }
   ],
   "source": [
    "netflix_data[\"Hidden Gem Score\"].dtypes"
   ]
  },
  {
   "cell_type": "code",
   "execution_count": 4,
   "id": "0ab2a5ba-8655-4963-9664-0aa9e7e66b8c",
   "metadata": {
    "tags": []
   },
   "outputs": [
    {
     "name": "stdout",
     "output_type": "stream",
     "text": [
      "Index(['Hidden Gem Score', 'IMDb Score', 'Rotten Tomatoes Score',\n",
      "       'Metacritic Score', 'Awards Received', 'Awards Nominated For',\n",
      "       'IMDb Votes'],\n",
      "      dtype='object')\n"
     ]
    }
   ],
   "source": [
    "numerical = netflix_data.dtypes[netflix_data.dtypes == \"float64\"].index\n",
    "print(numerical)"
   ]
  },
  {
   "cell_type": "code",
   "execution_count": 5,
   "id": "8c08bfca-47e9-4b6d-82e7-1b62795b62c9",
   "metadata": {
    "tags": []
   },
   "outputs": [
    {
     "data": {
      "text/html": [
       "<div>\n",
       "<style scoped>\n",
       "    .dataframe tbody tr th:only-of-type {\n",
       "        vertical-align: middle;\n",
       "    }\n",
       "\n",
       "    .dataframe tbody tr th {\n",
       "        vertical-align: top;\n",
       "    }\n",
       "\n",
       "    .dataframe thead th {\n",
       "        text-align: right;\n",
       "    }\n",
       "</style>\n",
       "<table border=\"1\" class=\"dataframe\">\n",
       "  <thead>\n",
       "    <tr style=\"text-align: right;\">\n",
       "      <th></th>\n",
       "      <th>Hidden Gem Score</th>\n",
       "      <th>IMDb Score</th>\n",
       "      <th>Rotten Tomatoes Score</th>\n",
       "      <th>Metacritic Score</th>\n",
       "      <th>Awards Received</th>\n",
       "      <th>Awards Nominated For</th>\n",
       "      <th>IMDb Votes</th>\n",
       "    </tr>\n",
       "  </thead>\n",
       "  <tbody>\n",
       "    <tr>\n",
       "      <th>count</th>\n",
       "      <td>13379.000000</td>\n",
       "      <td>13381.000000</td>\n",
       "      <td>6382.000000</td>\n",
       "      <td>4336.000000</td>\n",
       "      <td>6075.000000</td>\n",
       "      <td>7661.000000</td>\n",
       "      <td>1.337900e+04</td>\n",
       "    </tr>\n",
       "    <tr>\n",
       "      <th>mean</th>\n",
       "      <td>5.937551</td>\n",
       "      <td>6.496054</td>\n",
       "      <td>59.523034</td>\n",
       "      <td>56.813653</td>\n",
       "      <td>8.764444</td>\n",
       "      <td>13.983161</td>\n",
       "      <td>4.272841e+04</td>\n",
       "    </tr>\n",
       "    <tr>\n",
       "      <th>std</th>\n",
       "      <td>2.250202</td>\n",
       "      <td>1.146910</td>\n",
       "      <td>26.999173</td>\n",
       "      <td>17.582545</td>\n",
       "      <td>18.311171</td>\n",
       "      <td>29.821052</td>\n",
       "      <td>1.257012e+05</td>\n",
       "    </tr>\n",
       "    <tr>\n",
       "      <th>min</th>\n",
       "      <td>0.600000</td>\n",
       "      <td>1.000000</td>\n",
       "      <td>0.000000</td>\n",
       "      <td>5.000000</td>\n",
       "      <td>1.000000</td>\n",
       "      <td>1.000000</td>\n",
       "      <td>5.000000e+00</td>\n",
       "    </tr>\n",
       "    <tr>\n",
       "      <th>25%</th>\n",
       "      <td>3.800000</td>\n",
       "      <td>5.800000</td>\n",
       "      <td>38.000000</td>\n",
       "      <td>44.000000</td>\n",
       "      <td>1.000000</td>\n",
       "      <td>2.000000</td>\n",
       "      <td>4.035000e+02</td>\n",
       "    </tr>\n",
       "    <tr>\n",
       "      <th>50%</th>\n",
       "      <td>6.800000</td>\n",
       "      <td>6.600000</td>\n",
       "      <td>64.000000</td>\n",
       "      <td>57.000000</td>\n",
       "      <td>3.000000</td>\n",
       "      <td>5.000000</td>\n",
       "      <td>2.322000e+03</td>\n",
       "    </tr>\n",
       "    <tr>\n",
       "      <th>75%</th>\n",
       "      <td>7.900000</td>\n",
       "      <td>7.300000</td>\n",
       "      <td>83.000000</td>\n",
       "      <td>70.000000</td>\n",
       "      <td>8.000000</td>\n",
       "      <td>12.000000</td>\n",
       "      <td>2.089050e+04</td>\n",
       "    </tr>\n",
       "    <tr>\n",
       "      <th>max</th>\n",
       "      <td>9.800000</td>\n",
       "      <td>9.700000</td>\n",
       "      <td>100.000000</td>\n",
       "      <td>100.000000</td>\n",
       "      <td>300.000000</td>\n",
       "      <td>386.000000</td>\n",
       "      <td>2.354197e+06</td>\n",
       "    </tr>\n",
       "  </tbody>\n",
       "</table>\n",
       "</div>"
      ],
      "text/plain": [
       "       Hidden Gem Score    IMDb Score  Rotten Tomatoes Score  \\\n",
       "count      13379.000000  13381.000000            6382.000000   \n",
       "mean           5.937551      6.496054              59.523034   \n",
       "std            2.250202      1.146910              26.999173   \n",
       "min            0.600000      1.000000               0.000000   \n",
       "25%            3.800000      5.800000              38.000000   \n",
       "50%            6.800000      6.600000              64.000000   \n",
       "75%            7.900000      7.300000              83.000000   \n",
       "max            9.800000      9.700000             100.000000   \n",
       "\n",
       "       Metacritic Score  Awards Received  Awards Nominated For    IMDb Votes  \n",
       "count       4336.000000      6075.000000           7661.000000  1.337900e+04  \n",
       "mean          56.813653         8.764444             13.983161  4.272841e+04  \n",
       "std           17.582545        18.311171             29.821052  1.257012e+05  \n",
       "min            5.000000         1.000000              1.000000  5.000000e+00  \n",
       "25%           44.000000         1.000000              2.000000  4.035000e+02  \n",
       "50%           57.000000         3.000000              5.000000  2.322000e+03  \n",
       "75%           70.000000         8.000000             12.000000  2.089050e+04  \n",
       "max          100.000000       300.000000            386.000000  2.354197e+06  "
      ]
     },
     "execution_count": 5,
     "metadata": {},
     "output_type": "execute_result"
    }
   ],
   "source": [
    "netflix_data[numerical].describe()"
   ]
  },
  {
   "cell_type": "code",
   "execution_count": 7,
   "id": "5fe2d4cf-7a6f-4dfc-8874-6fbbd4eb32c0",
   "metadata": {
    "tags": []
   },
   "outputs": [
    {
     "name": "stdout",
     "output_type": "stream",
     "text": [
      "Index(['Title', 'Genre', 'Tags', 'Languages', 'Series or Movie',\n",
      "       'Country Availability', 'Runtime', 'Director', 'Writer', 'Actors',\n",
      "       'View Rating', 'Boxoffice', 'Production House', 'Netflix Link',\n",
      "       'IMDb Link', 'Summary', 'Image', 'Poster', 'TMDb Trailer',\n",
      "       'Trailer Site'],\n",
      "      dtype='object')\n"
     ]
    },
    {
     "data": {
      "text/html": [
       "<div>\n",
       "<style scoped>\n",
       "    .dataframe tbody tr th:only-of-type {\n",
       "        vertical-align: middle;\n",
       "    }\n",
       "\n",
       "    .dataframe tbody tr th {\n",
       "        vertical-align: top;\n",
       "    }\n",
       "\n",
       "    .dataframe thead th {\n",
       "        text-align: right;\n",
       "    }\n",
       "</style>\n",
       "<table border=\"1\" class=\"dataframe\">\n",
       "  <thead>\n",
       "    <tr style=\"text-align: right;\">\n",
       "      <th></th>\n",
       "      <th>Title</th>\n",
       "      <th>Genre</th>\n",
       "      <th>Tags</th>\n",
       "      <th>Languages</th>\n",
       "      <th>Series or Movie</th>\n",
       "      <th>Country Availability</th>\n",
       "      <th>Runtime</th>\n",
       "      <th>Director</th>\n",
       "      <th>Writer</th>\n",
       "      <th>Actors</th>\n",
       "      <th>View Rating</th>\n",
       "      <th>Boxoffice</th>\n",
       "      <th>Production House</th>\n",
       "      <th>Netflix Link</th>\n",
       "      <th>IMDb Link</th>\n",
       "      <th>Summary</th>\n",
       "      <th>Image</th>\n",
       "      <th>Poster</th>\n",
       "      <th>TMDb Trailer</th>\n",
       "      <th>Trailer Site</th>\n",
       "    </tr>\n",
       "  </thead>\n",
       "  <tbody>\n",
       "    <tr>\n",
       "      <th>count</th>\n",
       "      <td>15480</td>\n",
       "      <td>13770</td>\n",
       "      <td>15413</td>\n",
       "      <td>13545</td>\n",
       "      <td>15480</td>\n",
       "      <td>15461</td>\n",
       "      <td>15479</td>\n",
       "      <td>10772</td>\n",
       "      <td>11150</td>\n",
       "      <td>13555</td>\n",
       "      <td>8456</td>\n",
       "      <td>4007</td>\n",
       "      <td>5149</td>\n",
       "      <td>15480</td>\n",
       "      <td>13177</td>\n",
       "      <td>15471</td>\n",
       "      <td>15480</td>\n",
       "      <td>11842</td>\n",
       "      <td>7194</td>\n",
       "      <td>7194</td>\n",
       "    </tr>\n",
       "    <tr>\n",
       "      <th>unique</th>\n",
       "      <td>15071</td>\n",
       "      <td>1780</td>\n",
       "      <td>13378</td>\n",
       "      <td>1438</td>\n",
       "      <td>2</td>\n",
       "      <td>7530</td>\n",
       "      <td>4</td>\n",
       "      <td>6746</td>\n",
       "      <td>9650</td>\n",
       "      <td>12934</td>\n",
       "      <td>28</td>\n",
       "      <td>3836</td>\n",
       "      <td>3814</td>\n",
       "      <td>15480</td>\n",
       "      <td>12847</td>\n",
       "      <td>15449</td>\n",
       "      <td>15479</td>\n",
       "      <td>11666</td>\n",
       "      <td>7040</td>\n",
       "      <td>2</td>\n",
       "    </tr>\n",
       "    <tr>\n",
       "      <th>top</th>\n",
       "      <td>Godzilla</td>\n",
       "      <td>Comedy</td>\n",
       "      <td>Dramas</td>\n",
       "      <td>English</td>\n",
       "      <td>Movie</td>\n",
       "      <td>Japan</td>\n",
       "      <td>1-2 hour</td>\n",
       "      <td>Steven Spielberg</td>\n",
       "      <td>Fujio F. Fujiko</td>\n",
       "      <td>Noriko Ohara, Nobuyo Ôyama, Kaneta Kimotsuki, ...</td>\n",
       "      <td>R</td>\n",
       "      <td>$474,544,677</td>\n",
       "      <td>Netflix</td>\n",
       "      <td>https://www.netflix.com/watch/81415947</td>\n",
       "      <td>https://www.imdb.com/title/tt0120915</td>\n",
       "      <td>A surly septuagenarian gets another chance at ...</td>\n",
       "      <td>https://occ-0-37-33.1.nflxso.net/dnm/api/v6/ev...</td>\n",
       "      <td>https://m.media-amazon.com/images/M/MV5BYTRhNj...</td>\n",
       "      <td>https://www.youtube.com/watch?v=bD7bpG-zDJQ</td>\n",
       "      <td>YouTube</td>\n",
       "    </tr>\n",
       "    <tr>\n",
       "      <th>freq</th>\n",
       "      <td>4</td>\n",
       "      <td>1186</td>\n",
       "      <td>68</td>\n",
       "      <td>5133</td>\n",
       "      <td>11697</td>\n",
       "      <td>1339</td>\n",
       "      <td>9121</td>\n",
       "      <td>28</td>\n",
       "      <td>17</td>\n",
       "      <td>15</td>\n",
       "      <td>2096</td>\n",
       "      <td>12</td>\n",
       "      <td>82</td>\n",
       "      <td>1</td>\n",
       "      <td>12</td>\n",
       "      <td>3</td>\n",
       "      <td>2</td>\n",
       "      <td>11</td>\n",
       "      <td>8</td>\n",
       "      <td>7159</td>\n",
       "    </tr>\n",
       "  </tbody>\n",
       "</table>\n",
       "</div>"
      ],
      "text/plain": [
       "           Title   Genre    Tags Languages Series or Movie  \\\n",
       "count      15480   13770   15413     13545           15480   \n",
       "unique     15071    1780   13378      1438               2   \n",
       "top     Godzilla  Comedy  Dramas   English           Movie   \n",
       "freq           4    1186      68      5133           11697   \n",
       "\n",
       "       Country Availability   Runtime          Director           Writer  \\\n",
       "count                 15461     15479             10772            11150   \n",
       "unique                 7530         4              6746             9650   \n",
       "top                   Japan  1-2 hour  Steven Spielberg  Fujio F. Fujiko   \n",
       "freq                   1339      9121                28               17   \n",
       "\n",
       "                                                   Actors View Rating  \\\n",
       "count                                               13555        8456   \n",
       "unique                                              12934          28   \n",
       "top     Noriko Ohara, Nobuyo Ôyama, Kaneta Kimotsuki, ...           R   \n",
       "freq                                                   15        2096   \n",
       "\n",
       "           Boxoffice Production House                            Netflix Link  \\\n",
       "count           4007             5149                                   15480   \n",
       "unique          3836             3814                                   15480   \n",
       "top     $474,544,677          Netflix  https://www.netflix.com/watch/81415947   \n",
       "freq              12               82                                       1   \n",
       "\n",
       "                                   IMDb Link  \\\n",
       "count                                  13177   \n",
       "unique                                 12847   \n",
       "top     https://www.imdb.com/title/tt0120915   \n",
       "freq                                      12   \n",
       "\n",
       "                                                  Summary  \\\n",
       "count                                               15471   \n",
       "unique                                              15449   \n",
       "top     A surly septuagenarian gets another chance at ...   \n",
       "freq                                                    3   \n",
       "\n",
       "                                                    Image  \\\n",
       "count                                               15480   \n",
       "unique                                              15479   \n",
       "top     https://occ-0-37-33.1.nflxso.net/dnm/api/v6/ev...   \n",
       "freq                                                    2   \n",
       "\n",
       "                                                   Poster  \\\n",
       "count                                               11842   \n",
       "unique                                              11666   \n",
       "top     https://m.media-amazon.com/images/M/MV5BYTRhNj...   \n",
       "freq                                                   11   \n",
       "\n",
       "                                       TMDb Trailer Trailer Site  \n",
       "count                                          7194         7194  \n",
       "unique                                         7040            2  \n",
       "top     https://www.youtube.com/watch?v=bD7bpG-zDJQ      YouTube  \n",
       "freq                                              8         7159  "
      ]
     },
     "execution_count": 7,
     "metadata": {},
     "output_type": "execute_result"
    }
   ],
   "source": [
    "categorical = netflix_data.dtypes[netflix_data.dtypes == \"object\"].index\n",
    "print(categorical)\n",
    "netflix_data[categorical].describe()"
   ]
  },
  {
   "cell_type": "code",
   "execution_count": 8,
   "id": "ec6b6d93-0d33-41c8-90ec-dc009a1025bf",
   "metadata": {
    "tags": []
   },
   "outputs": [
    {
     "data": {
      "text/plain": [
       "array(['Swedish, Spanish', 'English', 'Turkish', ...,\n",
       "       'English, French, Tibetan, Mandarin, Russian, Hindi, Portuguese, Latin, Italian, Spanish',\n",
       "       'English, Ibo, Yoruba, Hausa', 'English, Hawaiian, Mandarin'],\n",
       "      dtype=object)"
      ]
     },
     "execution_count": 8,
     "metadata": {},
     "output_type": "execute_result"
    }
   ],
   "source": [
    "netflix_data[\"Languages\"].unique()"
   ]
  },
  {
   "cell_type": "code",
   "execution_count": 9,
   "id": "11942875-e44d-4538-a394-f7ef5b1502b3",
   "metadata": {
    "tags": []
   },
   "outputs": [
    {
     "data": {
      "text/plain": [
       "array(['< 30 minutes', '1-2 hour', '> 2 hrs', '30-60 mins', nan],\n",
       "      dtype=object)"
      ]
     },
     "execution_count": 9,
     "metadata": {},
     "output_type": "execute_result"
    }
   ],
   "source": [
    "netflix_data[\"Runtime\"].unique()"
   ]
  },
  {
   "cell_type": "code",
   "execution_count": 11,
   "id": "2bb067f2-5002-4ef2-b849-dda35e1c2f5a",
   "metadata": {
    "tags": []
   },
   "outputs": [
    {
     "data": {
      "text/plain": [
       "2107"
      ]
     },
     "execution_count": 11,
     "metadata": {},
     "output_type": "execute_result"
    }
   ],
   "source": [
    "missing = np.where(netflix_data[\"Release Date\"].isnull() == True)\n",
    "len(missing[0])"
   ]
  },
  {
   "cell_type": "code",
   "execution_count": 13,
   "id": "0247f1a5-cfdb-4231-ac02-4bb284da83c5",
   "metadata": {
    "tags": []
   },
   "outputs": [],
   "source": [
    "\"\"\"for row in netflix_data[\"TMDb Trailer\"]:\n",
    "    if row == \"Harvie And The Magic Museum\":\n",
    "        print(row)\"\"\""
   ]
  },
  {
   "cell_type": "code",
   "execution_count": 14,
   "id": "ee9ead19-ea75-46fa-9c3d-637638f0ca6e",
   "metadata": {
    "tags": []
   },
   "outputs": [
    {
     "ename": "NameError",
     "evalue": "name 'array' is not defined",
     "output_type": "error",
     "traceback": [
      "\u001b[1;31m---------------------------------------------------------------------------\u001b[0m",
      "\u001b[1;31mNameError\u001b[0m                                 Traceback (most recent call last)",
      "Cell \u001b[1;32mIn[14], line 1\u001b[0m\n\u001b[1;32m----> 1\u001b[0m (\u001b[43marray\u001b[49m([], dtype\u001b[38;5;241m=\u001b[39mint64),)\n",
      "\u001b[1;31mNameError\u001b[0m: name 'array' is not defined"
     ]
    }
   ],
   "source": [
    "(array([], dtype=int64),)"
   ]
  },
  {
   "cell_type": "code",
   "execution_count": 16,
   "id": "3334ff4f-3575-4e6d-bb51-6b6107044458",
   "metadata": {
    "tags": []
   },
   "outputs": [
    {
     "data": {
      "text/plain": [
       "11697"
      ]
     },
     "execution_count": 16,
     "metadata": {},
     "output_type": "execute_result"
    }
   ],
   "source": [
    "numberOfMovies = np.where(netflix_data[\"Series or Movie\"] == 'Movie')\n",
    "len(numberOfMovies[0])"
   ]
  },
  {
   "cell_type": "code",
   "execution_count": 18,
   "id": "b69d71f8-7fe7-4edd-bc26-51ac8a4e608d",
   "metadata": {
    "tags": []
   },
   "outputs": [
    {
     "data": {
      "text/html": [
       "<div>\n",
       "<style scoped>\n",
       "    .dataframe tbody tr th:only-of-type {\n",
       "        vertical-align: middle;\n",
       "    }\n",
       "\n",
       "    .dataframe tbody tr th {\n",
       "        vertical-align: top;\n",
       "    }\n",
       "\n",
       "    .dataframe thead th {\n",
       "        text-align: right;\n",
       "    }\n",
       "</style>\n",
       "<table border=\"1\" class=\"dataframe\">\n",
       "  <thead>\n",
       "    <tr style=\"text-align: right;\">\n",
       "      <th></th>\n",
       "      <th>Title</th>\n",
       "      <th>Genre</th>\n",
       "      <th>Tags</th>\n",
       "      <th>Languages</th>\n",
       "      <th>Series or Movie</th>\n",
       "      <th>Hidden Gem Score</th>\n",
       "      <th>Country Availability</th>\n",
       "      <th>Runtime</th>\n",
       "      <th>Director</th>\n",
       "      <th>Writer</th>\n",
       "      <th>...</th>\n",
       "      <th>Netflix Release Date</th>\n",
       "      <th>Production House</th>\n",
       "      <th>Netflix Link</th>\n",
       "      <th>IMDb Link</th>\n",
       "      <th>Summary</th>\n",
       "      <th>IMDb Votes</th>\n",
       "      <th>Image</th>\n",
       "      <th>Poster</th>\n",
       "      <th>TMDb Trailer</th>\n",
       "      <th>Trailer Site</th>\n",
       "    </tr>\n",
       "  </thead>\n",
       "  <tbody>\n",
       "    <tr>\n",
       "      <th>14621</th>\n",
       "      <td>The Shawshank Redemption</td>\n",
       "      <td>Drama</td>\n",
       "      <td>Dramas,20th Century Period Pieces,Dramas based...</td>\n",
       "      <td>English</td>\n",
       "      <td>Movie</td>\n",
       "      <td>4.4</td>\n",
       "      <td>France,Portugal,Belgium,Switzerland,Japan,Spai...</td>\n",
       "      <td>&gt; 2 hrs</td>\n",
       "      <td>Frank Darabont</td>\n",
       "      <td>Frank Darabont, Stephen King</td>\n",
       "      <td>...</td>\n",
       "      <td>2015-04-14</td>\n",
       "      <td>Columbia Pictures, Castle Rock Entertainment</td>\n",
       "      <td>https://www.netflix.com/watch/70005379</td>\n",
       "      <td>https://www.imdb.com/title/tt0111161</td>\n",
       "      <td>Framed for murder, upstanding banker Andy Dufr...</td>\n",
       "      <td>2354197.0</td>\n",
       "      <td>https://occ-0-2773-2774.1.nflxso.net/dnm/api/v...</td>\n",
       "      <td>https://images-na.ssl-images-amazon.com/images...</td>\n",
       "      <td>https://www.youtube.com/watch?v=K_tLp7T6U1c</td>\n",
       "      <td>YouTube</td>\n",
       "    </tr>\n",
       "  </tbody>\n",
       "</table>\n",
       "<p>1 rows × 29 columns</p>\n",
       "</div>"
      ],
      "text/plain": [
       "                          Title  Genre  \\\n",
       "14621  The Shawshank Redemption  Drama   \n",
       "\n",
       "                                                    Tags Languages  \\\n",
       "14621  Dramas,20th Century Period Pieces,Dramas based...   English   \n",
       "\n",
       "      Series or Movie  Hidden Gem Score  \\\n",
       "14621           Movie               4.4   \n",
       "\n",
       "                                    Country Availability  Runtime  \\\n",
       "14621  France,Portugal,Belgium,Switzerland,Japan,Spai...  > 2 hrs   \n",
       "\n",
       "             Director                        Writer  ... Netflix Release Date  \\\n",
       "14621  Frank Darabont  Frank Darabont, Stephen King  ...           2015-04-14   \n",
       "\n",
       "                                   Production House  \\\n",
       "14621  Columbia Pictures, Castle Rock Entertainment   \n",
       "\n",
       "                                 Netflix Link  \\\n",
       "14621  https://www.netflix.com/watch/70005379   \n",
       "\n",
       "                                  IMDb Link  \\\n",
       "14621  https://www.imdb.com/title/tt0111161   \n",
       "\n",
       "                                                 Summary  IMDb Votes  \\\n",
       "14621  Framed for murder, upstanding banker Andy Dufr...   2354197.0   \n",
       "\n",
       "                                                   Image  \\\n",
       "14621  https://occ-0-2773-2774.1.nflxso.net/dnm/api/v...   \n",
       "\n",
       "                                                  Poster  \\\n",
       "14621  https://images-na.ssl-images-amazon.com/images...   \n",
       "\n",
       "                                      TMDb Trailer Trailer Site  \n",
       "14621  https://www.youtube.com/watch?v=K_tLp7T6U1c      YouTube  \n",
       "\n",
       "[1 rows x 29 columns]"
      ]
     },
     "execution_count": 18,
     "metadata": {},
     "output_type": "execute_result"
    }
   ],
   "source": [
    "row = np.where(netflix_data[\"IMDb Votes\"] == max(netflix_data[\"IMDb Votes\"]))\n",
    "netflix_data.loc[row]"
   ]
  },
  {
   "cell_type": "code",
   "execution_count": 21,
   "id": "242323cf-dd5b-4451-98f3-920378a41620",
   "metadata": {
    "tags": []
   },
   "outputs": [
    {
     "data": {
      "text/plain": [
       "Index(['Title', 'Genre', 'Tags', 'Languages', 'Series or Movie',\n",
       "       'Hidden Gem Score', 'Country Availability', 'Runtime', 'Director',\n",
       "       'Writer', 'Actors', 'View Rating', 'IMDb Score',\n",
       "       'Rotten Tomatoes Score', 'Metacritic Score', 'Awards Received',\n",
       "       'Awards Nominated For', 'Boxoffice', 'Release Date',\n",
       "       'Netflix Release Date', 'Production House', 'Netflix Link', 'IMDb Link',\n",
       "       'Summary', 'IMDb Votes', 'Image', 'Poster', 'TMDb Trailer',\n",
       "       'Trailer Site'],\n",
       "      dtype='object')"
      ]
     },
     "execution_count": 21,
     "metadata": {},
     "output_type": "execute_result"
    }
   ],
   "source": [
    "netflix_data.columns"
   ]
  },
  {
   "cell_type": "code",
   "execution_count": 23,
   "id": "ffe1cd5b-fef7-48bf-9a66-e9701d1147d7",
   "metadata": {
    "tags": []
   },
   "outputs": [
    {
     "data": {
      "text/plain": [
       "(array([    2,     4,     5, ..., 15477, 15478, 15479], dtype=int64),)"
      ]
     },
     "execution_count": 23,
     "metadata": {},
     "output_type": "execute_result"
    }
   ],
   "source": [
    "missingAwardsReceived = np.where(netflix_data[\"Awards Received\"].isnull() == True)\n",
    "missingAwardsReceived"
   ]
  },
  {
   "cell_type": "code",
   "execution_count": 24,
   "id": "01ffa515-ce67-443c-95c3-778c0bd21785",
   "metadata": {
    "tags": []
   },
   "outputs": [
    {
     "data": {
      "text/plain": [
       "9405"
      ]
     },
     "execution_count": 24,
     "metadata": {},
     "output_type": "execute_result"
    }
   ],
   "source": [
    "len(missingAwardsReceived[0])"
   ]
  },
  {
   "cell_type": "code",
   "execution_count": 26,
   "id": "e5264608-fe17-4739-b4ac-d80a84dbd8ec",
   "metadata": {
    "tags": []
   },
   "outputs": [
    {
     "name": "stdout",
     "output_type": "stream",
     "text": [
      "[74.  1.  0. ...  0.  0.  0.]\n"
     ]
    }
   ],
   "source": [
    "newAwardsReceived = np.where(netflix_data[\"Awards Received\"].isnull(), 0, netflix_data[\"Awards Received\"])\n",
    "print(newAwardsReceived)"
   ]
  },
  {
   "cell_type": "code",
   "execution_count": 29,
   "id": "b8457f3b-2ff5-48d1-9a9c-07eb180c6f1a",
   "metadata": {
    "tags": []
   },
   "outputs": [
    {
     "name": "stdout",
     "output_type": "stream",
     "text": [
      "[57.  0.  0. ...  0.  0.  0.]\n"
     ]
    }
   ],
   "source": [
    "newAwardsNominated = np.where(netflix_data[\"Awards Nominated For\"].isnull(), 0, netflix_data[\"Awards Nominated For\"])\n",
    "print(newAwardsNominated)"
   ]
  },
  {
   "cell_type": "code",
   "execution_count": 4,
   "id": "b5538151-8a36-4190-9d66-6ce529017db7",
   "metadata": {
    "tags": []
   },
   "outputs": [
    {
     "data": {
      "text/plain": [
       "array([[<Axes: title={'center': 'Hidden Gem Score'}>]], dtype=object)"
      ]
     },
     "execution_count": 4,
     "metadata": {},
     "output_type": "execute_result"
    },
    {
     "data": {
      "image/png": "[encoded data removed]",
      "text/plain": [
       "<Figure size 900x600 with 1 Axes>"
      ]
     },
     "metadata": {},
     "output_type": "display_data"
    }
   ],
   "source": [
    "netflix_data.hist(column=\"Hidden Gem Score\", figsize=(9,6), bins=20)"
   ]
  },
  {
   "cell_type": "code",
   "execution_count": 3,
   "id": "c0256135-ff87-4f1a-8543-3793161fe8ba",
   "metadata": {
    "tags": []
   },
   "outputs": [],
   "source": [
    "newGemScore = np.where(netflix_data[\"Hidden Gem Score\"].isnull(), 7, netflix_data[\"Hidden Gem Score\"])"
   ]
  },
  {
   "cell_type": "code",
   "execution_count": 33,
   "id": "042eba70-518f-4825-b6c8-2a42faf21fc6",
   "metadata": {
    "tags": []
   },
   "outputs": [
    {
     "data": {
      "text/plain": [
       "count    15480.000000\n",
       "mean         6.081751\n",
       "std          2.123337\n",
       "min          0.600000\n",
       "25%          4.000000\n",
       "50%          7.000000\n",
       "75%          7.800000\n",
       "max          9.800000\n",
       "Name: Hidden Gem Score, dtype: float64"
      ]
     },
     "execution_count": 33,
     "metadata": {},
     "output_type": "execute_result"
    }
   ],
   "source": [
    "netflix_data[\"Hidden Gem Score\"] = newGemScore\n",
    "netflix_data[\"Hidden Gem Score\"].describe()"
   ]
  },
  {
   "cell_type": "code",
   "execution_count": 2,
   "id": "195cf17d-808e-47a8-bae6-deecee658bda",
   "metadata": {
    "tags": []
   },
   "outputs": [
    {
     "data": {
      "text/plain": [
       "array([[<Axes: title={'center': 'Hidden Gem Score'}>]], dtype=object)"
      ]
     },
     "execution_count": 2,
     "metadata": {},
     "output_type": "execute_result"
    },
    {
     "data": {
      "image/png": "[encoded data removed]",
      "text/plain": [
       "<Figure size 900x600 with 1 Axes>"
      ]
     },
     "metadata": {},
     "output_type": "display_data"
    }
   ],
   "source": [
    "netflix_data.hist(column=\"Hidden Gem Score\", figsize=(9,6), bins=20)"
   ]
  },
  {
   "cell_type": "code",
   "execution_count": 5,
   "id": "7c69ad17-5dad-4d6c-b3f8-53c0c29877de",
   "metadata": {
    "tags": []
   },
   "outputs": [
    {
     "data": {
      "text/plain": [
       "array([[<Axes: title={'center': 'IMDb Score'}>]], dtype=object)"
      ]
     },
     "execution_count": 5,
     "metadata": {},
     "output_type": "execute_result"
    },
    {
     "data": {
      "image/png": "[encoded data removed]",
      "text/plain": [
       "<Figure size 900x600 with 1 Axes>"
      ]
     },
     "metadata": {},
     "output_type": "display_data"
    }
   ],
   "source": [
    "netflix_data.hist(column=\"IMDb Score\", figsize=(9,6), bins=20)"
   ]
  },
  {
   "cell_type": "code",
   "execution_count": 6,
   "id": "9bfe9086-614e-4fd5-8aaa-9c80768334a4",
   "metadata": {
    "tags": []
   },
   "outputs": [
    {
     "data": {
      "text/plain": [
       "count    15480.000000\n",
       "mean         6.428792\n",
       "std          1.079756\n",
       "min          1.000000\n",
       "25%          6.000000\n",
       "50%          6.400000\n",
       "75%          7.200000\n",
       "max          9.700000\n",
       "Name: IMDb Score, dtype: float64"
      ]
     },
     "execution_count": 6,
     "metadata": {},
     "output_type": "execute_result"
    }
   ],
   "source": [
    "newImdbScore = np.where(netflix_data[\"IMDb Score\"].isnull(), 6, netflix_data[\"IMDb Score\"])\n",
    "netflix_data[\"IMDb Score\"] = newImdbScore\n",
    "netflix_data[\"IMDb Score\"].describe()"
   ]
  },
  {
   "cell_type": "code",
   "execution_count": 7,
   "id": "2b4e7a86-7364-4435-9d99-2e23ac1d3aa4",
   "metadata": {
    "tags": []
   },
   "outputs": [
    {
     "data": {
      "text/plain": [
       "array([[<Axes: title={'center': 'IMDb Score'}>]], dtype=object)"
      ]
     },
     "execution_count": 7,
     "metadata": {},
     "output_type": "execute_result"
    },
    {
     "data": {
      "image/png": "[encoded data removed]",
      "text/plain": [
       "<Figure size 900x600 with 1 Axes>"
      ]
     },
     "metadata": {},
     "output_type": "display_data"
    }
   ],
   "source": [
    "netflix_data.hist(column=\"IMDb Score\", figsize=(9,6), bins=20)"
   ]
  },
  {
   "cell_type": "code",
   "execution_count": 8,
   "id": "aa1b5e26-ea1a-4a62-8ccb-d5acf1eea826",
   "metadata": {
    "tags": []
   },
   "outputs": [
    {
     "data": {
      "text/plain": [
       "array([[<Axes: title={'center': 'Rotten Tomatoes Score'}>]], dtype=object)"
      ]
     },
     "execution_count": 8,
     "metadata": {},
     "output_type": "execute_result"
    },
    {
     "data": {
      "image/png": "[encoded data removed]",
      "text/plain": [
       "<Figure size 900x600 with 1 Axes>"
      ]
     },
     "metadata": {},
     "output_type": "display_data"
    }
   ],
   "source": [
    "netflix_data.hist(column=\"Rotten Tomatoes Score\", figsize=(9,6), bins=20)"
   ]
  },
  {
   "cell_type": "code",
   "execution_count": 10,
   "id": "ec56f2d3-6d26-4964-8916-96d87ddbe198",
   "metadata": {
    "tags": []
   },
   "outputs": [
    {
     "data": {
      "text/plain": [
       "array([[<Axes: title={'center': 'Rotten Tomatoes Score'}>]], dtype=object)"
      ]
     },
     "execution_count": 10,
     "metadata": {},
     "output_type": "execute_result"
    },
    {
     "data": {
      "image/png": "[encoded data removed]",
      "text/plain": [
       "<Figure size 900x600 with 1 Axes>"
      ]
     },
     "metadata": {},
     "output_type": "display_data"
    }
   ],
   "source": [
    "newTomatoesScore = np.where(netflix_data[\"Rotten Tomatoes Score\"].isnull(), 60, netflix_data[\"Rotten Tomatoes Score\"])\n",
    "netflix_data[\"Rotten Tomatoes Score\"] = newTomatoesScore\n",
    "netflix_data[\"Rotten Tomatoes Score\"].describe()\n",
    "netflix_data.hist(column=\"Rotten Tomatoes Score\", figsize=(9,6), bins=20)"
   ]
  },
  {
   "cell_type": "code",
   "execution_count": 11,
   "id": "fa34baae-0951-4a7e-8837-29e3e2b4a9f1",
   "metadata": {
    "tags": []
   },
   "outputs": [
    {
     "data": {
      "text/plain": [
       "array([[<Axes: title={'center': 'Metacritic Score'}>]], dtype=object)"
      ]
     },
     "execution_count": 11,
     "metadata": {},
     "output_type": "execute_result"
    },
    {
     "data": {
      "image/png": "[encoded data removed]",
      "text/plain": [
       "<Figure size 900x600 with 1 Axes>"
      ]
     },
     "metadata": {},
     "output_type": "display_data"
    }
   ],
   "source": [
    "netflix_data.hist(column=\"Metacritic Score\", figsize=(9,6), bins=20)"
   ]
  },
  {
   "cell_type": "code",
   "execution_count": 12,
   "id": "eb70db25-3af4-401f-a800-2684453b19c1",
   "metadata": {
    "tags": []
   },
   "outputs": [
    {
     "data": {
      "text/plain": [
       "array([[<Axes: title={'center': 'Metacritic Score'}>]], dtype=object)"
      ]
     },
     "execution_count": 12,
     "metadata": {},
     "output_type": "execute_result"
    },
    {
     "data": {
      "image/png": "[encoded data removed]",
      "text/plain": [
       "<Figure size 900x600 with 1 Axes>"
      ]
     },
     "metadata": {},
     "output_type": "display_data"
    }
   ],
   "source": [
    "newMetacriticScore = np.where(netflix_data[\"Metacritic Score\"].isnull(), 50, netflix_data[\"Metacritic Score\"])\n",
    "netflix_data[\"Metacritic Score\"] = newMetacriticScore\n",
    "netflix_data[\"Metacritic Score\"].describe()\n",
    "netflix_data.hist(column=\"Metacritic Score\", figsize=(9,6), bins=20)"
   ]
  },
  {
   "cell_type": "code",
   "execution_count": 13,
   "id": "71499f91-8a13-4b29-b41b-4527993e71dd",
   "metadata": {
    "tags": []
   },
   "outputs": [
    {
     "data": {
      "text/plain": [
       "array([[<Axes: title={'center': 'IMDb Votes'}>]], dtype=object)"
      ]
     },
     "execution_count": 13,
     "metadata": {},
     "output_type": "execute_result"
    },
    {
     "data": {
      "image/png": "[encoded data removed]",
      "text/plain": [
       "<Figure size 900x600 with 1 Axes>"
      ]
     },
     "metadata": {},
     "output_type": "display_data"
    }
   ],
   "source": [
    "newVotes = np.where(netflix_data[\"IMDb Votes\"].isnull(), 0.0, netflix_data[\"IMDb Votes\"])\n",
    "netflix_data[\"IMDb Votes\"] = newVotes\n",
    "netflix_data[\"IMDb Votes\"].describe()\n",
    "netflix_data.hist(column=\"IMDb Votes\", figsize=(9,6), bins=20)"
   ]
  },
  {
   "cell_type": "code",
   "execution_count": 15,
   "id": "5d871825-a742-435b-a835-d35b2ab86fbd",
   "metadata": {
    "tags": []
   },
   "outputs": [
    {
     "data": {
      "text/plain": [
       "dtype('<M8[ns]')"
      ]
     },
     "execution_count": 15,
     "metadata": {},
     "output_type": "execute_result"
    }
   ],
   "source": [
    "releaseDateType = pd.to_datetime(netflix_data[\"Release Date\"])\n",
    "releaseDateType.dtype"
   ]
  },
  {
   "cell_type": "code",
   "execution_count": 16,
   "id": "3ba621e2-38ca-4a5d-9620-db884459ec0d",
   "metadata": {
    "tags": []
   },
   "outputs": [
    {
     "data": {
      "text/plain": [
       "dtype('<M8[ns]')"
      ]
     },
     "execution_count": 16,
     "metadata": {},
     "output_type": "execute_result"
    }
   ],
   "source": [
    "netflixReleaseDateType = pd.to_datetime(netflix_data[\"Netflix Release Date\"])\n",
    "netflixReleaseDateType.dtype"
   ]
  },
  {
   "cell_type": "code",
   "execution_count": 17,
   "id": "651cfd2a-b286-43d6-b16d-df6d6a76bcb7",
   "metadata": {
    "tags": []
   },
   "outputs": [
    {
     "data": {
      "text/plain": [
       "0   2008-12-12\n",
       "1   2020-05-08\n",
       "2   2020-08-28\n",
       "3   2016-10-01\n",
       "4   2011-09-22\n",
       "Name: Release Date, dtype: datetime64[ns]"
      ]
     },
     "execution_count": 17,
     "metadata": {},
     "output_type": "execute_result"
    }
   ],
   "source": [
    "netflix_data[\"Release Date\"] = releaseDateType\n",
    "netflix_data[\"Netflix Release Date\"] = netflixReleaseDateType\n",
    "netflix_data[\"Release Date\"].head(5)"
   ]
  },
  {
   "cell_type": "code",
   "execution_count": 18,
   "id": "b4fa918d-fcee-4be9-9ff2-dc62fc29213e",
   "metadata": {
    "tags": []
   },
   "outputs": [
    {
     "data": {
      "text/plain": [
       "Index(['ReleasedYear', 'Title', 'Genre', 'Tags', 'Languages',\n",
       "       'Series or Movie', 'Hidden Gem Score', 'Country Availability',\n",
       "       'Runtime', 'Director', 'Writer', 'Actors', 'View Rating', 'IMDb Score',\n",
       "       'Rotten Tomatoes Score', 'Metacritic Score', 'Awards Received',\n",
       "       'Awards Nominated For', 'Boxoffice', 'Release Date',\n",
       "       'Netflix Release Date', 'Production House', 'Netflix Link', 'IMDb Link',\n",
       "       'Summary', 'IMDb Votes', 'Image', 'Poster', 'TMDb Trailer',\n",
       "       'Trailer Site'],\n",
       "      dtype='object')"
      ]
     },
     "execution_count": 18,
     "metadata": {},
     "output_type": "execute_result"
    }
   ],
   "source": [
    "extractedData = netflix_data[\"Release Date\"].tolist()\n",
    "extractedReleaseData = netflix_data[\"Release Date\"].tolist()\n",
    "extractedNetflixReleaseData = netflix_data[\"Netflix Release Date\"].tolist()\n",
    "netflix_data.insert(0, \"ReleasedYear\", extractedReleaseData)\n",
    "netflix_data.columns"
   ]
  },
  {
   "cell_type": "code",
   "execution_count": 19,
   "id": "a68dd9c4-73c4-4cc6-b0a7-c7ed81cebfb6",
   "metadata": {
    "tags": []
   },
   "outputs": [
    {
     "data": {
      "text/plain": [
       "Index(['NetflixReleasedYear', 'ReleasedYear', 'Title', 'Genre', 'Tags',\n",
       "       'Languages', 'Series or Movie', 'Hidden Gem Score',\n",
       "       'Country Availability', 'Runtime', 'Director', 'Writer', 'Actors',\n",
       "       'View Rating', 'IMDb Score', 'Rotten Tomatoes Score',\n",
       "       'Metacritic Score', 'Awards Received', 'Awards Nominated For',\n",
       "       'Boxoffice', 'Release Date', 'Netflix Release Date', 'Production House',\n",
       "       'Netflix Link', 'IMDb Link', 'Summary', 'IMDb Votes', 'Image', 'Poster',\n",
       "       'TMDb Trailer', 'Trailer Site'],\n",
       "      dtype='object')"
      ]
     },
     "execution_count": 19,
     "metadata": {},
     "output_type": "execute_result"
    }
   ],
   "source": [
    "netflix_data.insert(0, \"NetflixReleasedYear\", extractedNetflixReleaseData)\n",
    "netflix_data.columns"
   ]
  },
  {
   "cell_type": "code",
   "execution_count": null,
   "id": "ca0dc54c-fdee-47a1-b877-31113a4ba78b",
   "metadata": {},
   "outputs": [],
   "source": []
  }
 ],
 "metadata": {
  "kernelspec": {
   "display_name": "Python 3 (ipykernel)",
   "language": "python",
   "name": "python3"
  },
  "language_info": {
   "codemirror_mode": {
    "name": "ipython",
    "version": 3
   },
   "file_extension": ".py",
   "mimetype": "text/x-python",
   "name": "python",
   "nbconvert_exporter": "python",
   "pygments_lexer": "ipython3",
   "version": "3.11.2"
  }
 },
 "nbformat": 4,
 "nbformat_minor": 5
}
